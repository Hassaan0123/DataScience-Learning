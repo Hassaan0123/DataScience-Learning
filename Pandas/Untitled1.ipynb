{
 "cells": [
  {
   "cell_type": "code",
   "execution_count": 1,
   "id": "d676ce9d",
   "metadata": {},
   "outputs": [
    {
     "name": "stdout",
     "output_type": "stream",
     "text": [
      "Message sent successfully.\n"
     ]
    }
   ],
   "source": [
    "import vonage\n",
    "\n",
    "client = vonage.Client(key=\"************\", secret=\"5ahmSs43om1tVNFb\")\n",
    "sms = vonage.Sms(client)\n",
    "\n",
    "responseData = sms.send_message(\n",
    "    {\n",
    "        \"from\": \"IOT\",\n",
    "        \"to\": \"923172144424\",\n",
    "        \"text\": \"Device Not Working properly\",\n",
    "    }\n",
    ")\n",
    "\n",
    "\n",
    "if responseData[\"messages\"][0][\"status\"] == \"0\":\n",
    "    print(\"Message sent successfully.\")\n",
    "else:\n",
    "    print(f\"Message failed with error: {responseData['messages'][0]['error-text']}\")"
   ]
  },
  {
   "cell_type": "code",
   "execution_count": 3,
   "id": "92ae63f9",
   "metadata": {},
   "outputs": [
    {
     "name": "stdout",
     "output_type": "stream",
     "text": [
      "{'message-count': '1',\n",
      " 'messages': [{'message-id': '1610d4c6-e49b-4491-b441-901c5ec7a6c0',\n",
      "               'message-price': '0.12870000',\n",
      "               'network': '41004',\n",
      "               'remaining-balance': '1.61390000',\n",
      "               'status': '0',\n",
      "               'to': '923172144424'}]}\n"
     ]
    }
   ],
   "source": [
    "from pprint import pprint\n",
    "\n",
    "pprint(responseData)"
   ]
  },
  {
   "cell_type": "code",
   "execution_count": 4,
   "id": "21a6f0b3",
   "metadata": {},
   "outputs": [
    {
     "name": "stdout",
     "output_type": "stream",
     "text": [
      "Message sent successfully.\n",
      "Enter OTP!: 10001\n",
      "Try Again!\n"
     ]
    }
   ],
   "source": [
    "import vonage\n",
    "\n",
    "client = vonage.Client(key=\"f9259294\", secret=\"5ahmSs43om1tVNFb\")\n",
    "sms = vonage.Sms(client)\n",
    "\n",
    "otp = 10001\n",
    "\n",
    "responseData = sms.send_message(\n",
    "    {\n",
    "        \"from\": \"IOT\",\n",
    "        \"to\": \"923172144424\",\n",
    "        \"text\": otp,\n",
    "    }\n",
    ")\n",
    "\n",
    "\n",
    "if responseData[\"messages\"][0][\"status\"] == \"0\":\n",
    "    print(\"Message sent successfully.\")\n",
    "else:\n",
    "    print(f\"Message failed with error: {responseData['messages'][0]['error-text']}\")\n",
    "try:\n",
    "    verify = int(input(\"Enter OTP!: \"))\n",
    "    if verify == sms.send_message[\"text\"]:\n",
    "        print(\"Confirm!\")\n",
    "except:\n",
    "    print(\"Try Again!\")"
   ]
  },
  {
   "cell_type": "code",
   "execution_count": 9,
   "id": "9eca8d83",
   "metadata": {},
   "outputs": [
    {
     "ename": "KeyError",
     "evalue": "0",
     "output_type": "error",
     "traceback": [
      "\u001b[1;31m---------------------------------------------------------------------------\u001b[0m",
      "\u001b[1;31mKeyError\u001b[0m                                  Traceback (most recent call last)",
      "\u001b[1;32m~\\AppData\\Local\\Temp/ipykernel_12088/3459525185.py\u001b[0m in \u001b[0;36m<module>\u001b[1;34m\u001b[0m\n\u001b[1;32m----> 1\u001b[1;33m \u001b[0mprint\u001b[0m\u001b[1;33m(\u001b[0m\u001b[0mresponseData\u001b[0m\u001b[1;33m[\u001b[0m\u001b[1;36m0\u001b[0m\u001b[1;33m]\u001b[0m\u001b[1;33m[\u001b[0m\u001b[1;34m\"text\"\u001b[0m\u001b[1;33m]\u001b[0m\u001b[1;33m)\u001b[0m\u001b[1;33m\u001b[0m\u001b[1;33m\u001b[0m\u001b[0m\n\u001b[0m",
      "\u001b[1;31mKeyError\u001b[0m: 0"
     ]
    }
   ],
   "source": [
    "print(responseData[0][\"text\"])"
   ]
  },
  {
   "cell_type": "code",
   "execution_count": null,
   "id": "35233962",
   "metadata": {},
   "outputs": [],
   "source": []
  },
  {
   "cell_type": "code",
   "execution_count": null,
   "id": "c47a3e85",
   "metadata": {},
   "outputs": [],
   "source": []
  }
 ],
 "metadata": {
  "kernelspec": {
   "display_name": "Python 3 (ipykernel)",
   "language": "python",
   "name": "python3"
  },
  "language_info": {
   "codemirror_mode": {
    "name": "ipython",
    "version": 3
   },
   "file_extension": ".py",
   "mimetype": "text/x-python",
   "name": "python",
   "nbconvert_exporter": "python",
   "pygments_lexer": "ipython3",
   "version": "3.7.11"
  }
 },
 "nbformat": 4,
 "nbformat_minor": 5
}
