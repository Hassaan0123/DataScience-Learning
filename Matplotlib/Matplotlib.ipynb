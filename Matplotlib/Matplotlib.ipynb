{
 "cells": [
  {
   "cell_type": "markdown",
   "id": "84eeeedc",
   "metadata": {},
   "source": [
    "# `Matplotlib`\n",
    "\n",
    "# `What is Matplotlib?`\n",
    "Matplotlib is a low level graph plotting library in python that serves as a visualization utility.\n",
    "\n",
    "Matplotlib was created by John D. Hunter.\n",
    "\n",
    "Matplotlib is open source and we can use it freely.\n",
    "\n",
    "Matplotlib is mostly written in python, a few segments are written in C, Objective-C and Javascript for Platform compatibility.\n",
    "# `Installation of Matplotlib`\n",
    "If you have Python and PIP already installed on a system, then installation of Matplotlib is very easy.\n",
    "\n",
    "Install it using this command:\n",
    "### `pip install matplotlib` or `py -m pip install matplotlib`\n",
    "\n",
    "# `Now import library`"
   ]
  },
  {
   "cell_type": "code",
   "execution_count": null,
   "id": "4bc9903a",
   "metadata": {},
   "outputs": [],
   "source": [
    "import matplotlib"
   ]
  },
  {
   "cell_type": "code",
   "execution_count": null,
   "id": "cb2bdd99",
   "metadata": {},
   "outputs": [],
   "source": [
    "import matplotlib\n",
    "\n",
    "print(matplotlib.__version__)"
   ]
  },
  {
   "cell_type": "markdown",
   "id": "32213982",
   "metadata": {},
   "source": [
    "# `Matplotlib.pyplot`\n",
    "# `Pyplot`\n",
    "Most of the Matplotlib utilities lies under the pyplot submodule, and are usually imported under the plt alias:"
   ]
  },
  {
   "cell_type": "code",
   "execution_count": null,
   "id": "d56314e7",
   "metadata": {},
   "outputs": [],
   "source": [
    "from matplotlib import pyplot as plt  \n",
    "\n",
    "#ploting our canvas\n",
    "\n",
    "x=[1,2,3,4,5]\n",
    "y=[10,9,8,7,6]\n",
    "\n",
    "plt.plot(x,y)\n",
    "\n",
    "#display the graph  \n",
    "plt.show()  "
   ]
  },
  {
   "cell_type": "code",
   "execution_count": null,
   "id": "b8748e5e",
   "metadata": {},
   "outputs": [],
   "source": [
    "import matplotlib.pyplot as plt\n",
    "import numpy as np\n",
    "\n",
    "xpoints = np.array([0, 6])\n",
    "ypoints = np.array([0, 250])\n",
    "\n",
    "plt.plot(xpoints, ypoints)\n",
    "plt.show()"
   ]
  },
  {
   "cell_type": "code",
   "execution_count": null,
   "id": "d818ac15",
   "metadata": {},
   "outputs": [],
   "source": [
    "import matplotlib.pyplot as plt\n",
    "\n",
    "# initializing the data\n",
    "x = [10, 20, 30, 40]\n",
    "y = [20, 30, 40, 50]\n",
    "\n",
    "# plotting the data\n",
    "plt.plot(x, y)\n",
    "\n",
    "# Adding the title\n",
    "\n",
    "plt.title(\"Simple Plot\")\n",
    "# Adding the labels\n",
    "\n",
    "plt.ylabel(\"y-axis\")\n",
    "plt.xlabel(\"x-axis\")\n",
    "\n",
    "plt.show()"
   ]
  },
  {
   "cell_type": "code",
   "execution_count": null,
   "id": "2862116d",
   "metadata": {},
   "outputs": [],
   "source": [
    "# Python program to show pyplot module\n",
    "import matplotlib.pyplot as plt\n",
    "plt.plot([1, 2, 3, 4], [1, 4, 9, 16])\n",
    "plt.axis([0, 6, 0, 20]) # ([xmin, xmax, ymin, ymax])\n",
    "plt.show()\n"
   ]
  },
  {
   "cell_type": "code",
   "execution_count": null,
   "id": "e457840b",
   "metadata": {},
   "outputs": [],
   "source": [
    "import matplotlib.pyplot as plt\n",
    "import numpy as np\n",
    "\n",
    "xpoints = np.array([1, 8])\n",
    "ypoints = np.array([3, 10])\n",
    "\n",
    "plt.plot(xpoints, ypoints)\n",
    "plt.show()"
   ]
  },
  {
   "cell_type": "markdown",
   "id": "ec6cfcf0",
   "metadata": {},
   "source": [
    "<pre>\n",
    "Signature: plt.plot(*args, scalex=True, scaley=True, data=None, **kwargs)\n",
    "Docstring:\n",
    "Plot y versus x as lines and/or markers.\n",
    "\n",
    "Call signatures::\n",
    "\n",
    "    plot([x], y, [fmt], *, data=None, **kwargs)\n",
    "    plot([x], y, [fmt], [x2], y2, [fmt2], ..., **kwargs)\n",
    "\n",
    "The coordinates of the points or line nodes are given by *x*, *y*.\n",
    "\n",
    "The optional parameter *fmt* is a convenient way for defining basic\n",
    "formatting like color, marker and linestyle. It's a shortcut string\n",
    "notation described in the *Notes* section below.\n",
    "\n",
    ">>> plot(x, y)        # plot x and y using default line style and color\n",
    ">>> plot(x, y, 'bo')  # plot x and y using blue circle markers\n",
    ">>> plot(y)           # plot y using x as index array 0..N-1\n",
    ">>> plot(y, 'r+')     # ditto, but with red plusses\n",
    "\n",
    "You can use `.Line2D` properties as keyword arguments for more\n",
    "control on the appearance. Line properties and *fmt* can be mixed.\n",
    "The following two calls yield identical results:\n",
    "\n",
    ">>> plot(x, y, 'go--', linewidth=2, markersize=12)\n",
    ">>> plot(x, y, color='green', marker='o', linestyle='dashed',\n",
    "...      linewidth=2, markersize=12)\n",
    "\n",
    "When conflicting with *fmt*, keyword arguments take precedence.\n",
    "\n",
    "\n",
    "**Plotting labelled data**\n",
    "\n",
    "There's a convenient way for plotting objects with labelled data (i.e.\n",
    "data that can be accessed by index ``obj['y']``). Instead of giving\n",
    "the data in *x* and *y*, you can provide the object in the *data*\n",
    "parameter and just give the labels for *x* and *y*::\n",
    "\n",
    ">>> plot('xlabel', 'ylabel', data=obj)\n",
    "\n",
    "All indexable objects are supported. This could e.g. be a `dict`, a\n",
    "`pandas.DataFrame` or a structured numpy array.\n",
    "\n",
    "\n",
    "**Plotting multiple sets of data**\n",
    "\n",
    "There are various ways to plot multiple sets of data.\n",
    "\n",
    "- The most straight forward way is just to call `plot` multiple times.\n",
    "  Example:\n",
    "\n",
    "  >>> plot(x1, y1, 'bo')\n",
    "  >>> plot(x2, y2, 'go')\n",
    "\n",
    "- If *x* and/or *y* are 2D arrays a separate data set will be drawn\n",
    "  for every column. If both *x* and *y* are 2D, they must have the\n",
    "  same shape. If only one of them is 2D with shape (N, m) the other\n",
    "  must have length N and will be used for every data set m.\n",
    "\n",
    "  Example:\n",
    "\n",
    "  >>> x = [1, 2, 3]\n",
    "  >>> y = np.array([[1, 2], [3, 4], [5, 6]])\n",
    "  >>> plot(x, y)\n",
    "\n",
    "  is equivalent to:\n",
    "\n",
    "  >>> for col in range(y.shape[1]):\n",
    "  ...     plot(x, y[:, col])\n",
    "\n",
    "- The third way is to specify multiple sets of *[x]*, *y*, *[fmt]*\n",
    "  groups::\n",
    "\n",
    "  >>> plot(x1, y1, 'g^', x2, y2, 'g-')\n",
    "\n",
    "  In this case, any additional keyword argument applies to all\n",
    "  datasets. Also this syntax cannot be combined with the *data*\n",
    "  parameter.\n",
    "\n",
    "By default, each line is assigned a different style specified by a\n",
    "'style cycle'. The *fmt* and line property parameters are only\n",
    "necessary if you want explicit deviations from these defaults.\n",
    "Alternatively, you can also change the style cycle using\n",
    ":rc:`axes.prop_cycle`.\n",
    "\n",
    "\n",
    "Parameters\n",
    "----------\n",
    "x, y : array-like or scalar\n",
    "    The horizontal / vertical coordinates of the data points.\n",
    "    *x* values are optional and default to ``range(len(y))``.\n",
    "\n",
    "    Commonly, these parameters are 1D arrays.\n",
    "\n",
    "    They can also be scalars, or two-dimensional (in that case, the\n",
    "    columns represent separate data sets).\n",
    "\n",
    "    These arguments cannot be passed as keywords.\n",
    "\n",
    "fmt : str, optional\n",
    "    A format string, e.g. 'ro' for red circles. See the *Notes*\n",
    "    section for a full description of the format strings.\n",
    "\n",
    "    Format strings are just an abbreviation for quickly setting\n",
    "    basic line properties. All of these and more can also be\n",
    "    controlled by keyword arguments.\n",
    "\n",
    "    This argument cannot be passed as keyword.\n",
    "\n",
    "data : indexable object, optional\n",
    "    An object with labelled data. If given, provide the label names to\n",
    "    plot in *x* and *y*.\n",
    "\n",
    "    .. note::\n",
    "        Technically there's a slight ambiguity in calls where the\n",
    "        second label is a valid *fmt*. ``plot('n', 'o', data=obj)``\n",
    "        could be ``plt(x, y)`` or ``plt(y, fmt)``. In such cases,\n",
    "        the former interpretation is chosen, but a warning is issued.\n",
    "        You may suppress the warning by adding an empty format string\n",
    "        ``plot('n', 'o', '', data=obj)``.\n",
    "\n",
    "Returns\n",
    "-------\n",
    "list of `.Line2D`\n",
    "    A list of lines representing the plotted data.\n",
    "\n",
    "Other Parameters\n",
    "----------------\n",
    "scalex, scaley : bool, default: True\n",
    "    These parameters determine if the view limits are adapted to the\n",
    "    data limits. The values are passed on to `autoscale_view`.\n",
    "\n",
    "**kwargs : `.Line2D` properties, optional\n",
    "    *kwargs* are used to specify properties like a line label (for\n",
    "    auto legends), linewidth, antialiasing, marker face color.\n",
    "    Example::\n",
    "\n",
    "    >>> plot([1, 2, 3], [1, 2, 3], 'go-', label='line 1', linewidth=2)\n",
    "    >>> plot([1, 2, 3], [1, 4, 9], 'rs', label='line 2')\n",
    "\n",
    "    If you specify multiple lines with one plot call, the kwargs apply\n",
    "    to all those lines. In case the label object is iterable, each\n",
    "    element is used as labels for each set of data.\n",
    "\n",
    "    Here is a list of available `.Line2D` properties:\n",
    "\n",
    "    Properties:\n",
    "    agg_filter: a filter function, which takes a (m, n, 3) float array and a dpi value, and returns a (m, n, 3) array\n",
    "    alpha: scalar or None\n",
    "    animated: bool\n",
    "    antialiased or aa: bool\n",
    "    clip_box: `.Bbox`\n",
    "    clip_on: bool\n",
    "    clip_path: Patch or (Path, Transform) or None\n",
    "    color or c: color\n",
    "    dash_capstyle: `.CapStyle` or {'butt', 'projecting', 'round'}\n",
    "    dash_joinstyle: `.JoinStyle` or {'miter', 'round', 'bevel'}\n",
    "    dashes: sequence of floats (on/off ink in points) or (None, None)\n",
    "    data: (2, N) array or two 1D arrays\n",
    "    drawstyle or ds: {'default', 'steps', 'steps-pre', 'steps-mid', 'steps-post'}, default: 'default'\n",
    "    figure: `.Figure`\n",
    "    fillstyle: {'full', 'left', 'right', 'bottom', 'top', 'none'}\n",
    "    gid: str\n",
    "    in_layout: bool\n",
    "    label: object\n",
    "    linestyle or ls: {'-', '--', '-.', ':', '', (offset, on-off-seq), ...}\n",
    "    linewidth or lw: float\n",
    "    marker: marker style string, `~.path.Path` or `~.markers.MarkerStyle`\n",
    "    markeredgecolor or mec: color\n",
    "    markeredgewidth or mew: float\n",
    "    markerfacecolor or mfc: color\n",
    "    markerfacecoloralt or mfcalt: color\n",
    "    markersize or ms: float\n",
    "    markevery: None or int or (int, int) or slice or list[int] or float or (float, float) or list[bool]\n",
    "    path_effects: `.AbstractPathEffect`\n",
    "    picker: float or callable[[Artist, Event], tuple[bool, dict]]\n",
    "    pickradius: float\n",
    "    rasterized: bool\n",
    "    sketch_params: (scale: float, length: float, randomness: float)\n",
    "    snap: bool or None\n",
    "    solid_capstyle: `.CapStyle` or {'butt', 'projecting', 'round'}\n",
    "    solid_joinstyle: `.JoinStyle` or {'miter', 'round', 'bevel'}\n",
    "    transform: unknown\n",
    "    url: str\n",
    "    visible: bool\n",
    "    xdata: 1D array\n",
    "    ydata: 1D array\n",
    "    zorder: float\n",
    "\n",
    "See Also\n",
    "--------\n",
    "scatter : XY scatter plot with markers of varying size and/or color (\n",
    "    sometimes also called bubble chart).\n",
    "\n",
    "Notes\n",
    "-----\n",
    "**Format Strings**\n",
    "\n",
    "A format string consists of a part for color, marker and line::\n",
    "\n",
    "    fmt = '[marker][line][color]'\n",
    "\n",
    "Each of them is optional. If not provided, the value from the style\n",
    "cycle is used. Exception: If ``line`` is given, but no ``marker``,\n",
    "the data will be a line without markers.\n",
    "\n",
    "Other combinations such as ``[color][marker][line]`` are also\n",
    "supported, but note that their parsing may be ambiguous.\n",
    "\n",
    "**Markers**\n",
    "\n",
    "=============   ===============================\n",
    "character       description\n",
    "=============   ===============================\n",
    "``'.'``         point marker\n",
    "``','``         pixel marker\n",
    "``'o'``         circle marker\n",
    "``'v'``         triangle_down marker\n",
    "``'^'``         triangle_up marker\n",
    "``'<'``         triangle_left marker\n",
    "``'>'``         triangle_right marker\n",
    "``'1'``         tri_down marker\n",
    "``'2'``         tri_up marker\n",
    "``'3'``         tri_left marker\n",
    "``'4'``         tri_right marker\n",
    "``'8'``         octagon marker\n",
    "``'s'``         square marker\n",
    "``'p'``         pentagon marker\n",
    "``'P'``         plus (filled) marker\n",
    "``'*'``         star marker\n",
    "``'h'``         hexagon1 marker\n",
    "``'H'``         hexagon2 marker\n",
    "``'+'``         plus marker\n",
    "``'x'``         x marker\n",
    "``'X'``         x (filled) marker\n",
    "``'D'``         diamond marker\n",
    "``'d'``         thin_diamond marker\n",
    "``'|'``         vline marker\n",
    "``'_'``         hline marker\n",
    "=============   ===============================\n",
    "\n",
    "**Line Styles**\n",
    "\n",
    "=============    ===============================\n",
    "character        description\n",
    "=============    ===============================\n",
    "``'-'``          solid line style\n",
    "``'--'``         dashed line style\n",
    "``'-.'``         dash-dot line style\n",
    "``':'``          dotted line style\n",
    "=============    ===============================\n",
    "\n",
    "Example format strings::\n",
    "\n",
    "    'b'    # blue markers with default shape\n",
    "    'or'   # red circles\n",
    "    '-g'   # green solid line\n",
    "    '--'   # dashed line with default color\n",
    "    '^k:'  # black triangle_up markers connected by a dotted line\n",
    "\n",
    "**Colors**\n",
    "\n",
    "The supported color abbreviations are the single letter codes\n",
    "\n",
    "=============    ===============================\n",
    "character        color\n",
    "=============    ===============================\n",
    "``'b'``          blue\n",
    "``'g'``          green\n",
    "``'r'``          red\n",
    "``'c'``          cyan\n",
    "``'m'``          magenta\n",
    "``'y'``          yellow\n",
    "``'k'``          black\n",
    "``'w'``          white\n",
    "=============    ===============================\n",
    "\n",
    "and the ``'CN'`` colors that index into the default property cycle.\n",
    "\n",
    "If the color is the only part of the format string, you can\n",
    "additionally use any  `matplotlib.colors` spec, e.g. full names\n",
    "(``'green'``) or hex strings (``'#008000'``).\n",
    "File:      c:\\users\\mrahe\\anaconda3\\lib\\site-packages\\matplotlib\\pyplot.py\n",
    "Type:      function\n",
    "</per>"
   ]
  },
  {
   "cell_type": "code",
   "execution_count": null,
   "id": "c645c1e3",
   "metadata": {},
   "outputs": [],
   "source": [
    "# Plotting Without Line\n",
    "# To plot only the markers, you can use shortcut string notation parameter 'o', which means 'rings'.\n",
    "\n",
    "import matplotlib.pyplot as plt\n",
    "import numpy as np\n",
    "\n",
    "xpoints = np.array([1, 8])\n",
    "ypoints = np.array([3, 10])\n",
    "\n",
    "plt.plot(xpoints, ypoints, 'p')\n",
    "plt.show()"
   ]
  },
  {
   "cell_type": "code",
   "execution_count": null,
   "id": "f0de3fa4",
   "metadata": {},
   "outputs": [],
   "source": [
    "from matplotlib import pyplot as plt\n",
    "\n",
    "days = [1,2,3,4,5,6,7,8,9,10,11,12,13,14,15]\n",
    "karachi_temp = [36.6, 37, 37.7,39,40.1,43,43.4,45,45.6,40.1,44,45,46.8,47,47.8]\n",
    "lahore_temp = [39,39.4,40,40.7,41,42.5,43.5,44,44.9,44,45,45.1,46,47,46]\n",
    "\n",
    "plt.plot(days,karachi_temp, \"o\")\n",
    "plt.plot(days, lahore_temp, 'o')\n",
    "plt.show()"
   ]
  },
  {
   "cell_type": "code",
   "execution_count": null,
   "id": "f1579f46",
   "metadata": {},
   "outputs": [],
   "source": [
    "import matplotlib.pyplot as plt\n",
    "import numpy as np\n",
    "\n",
    "xpoints = np.array([1, 2, 6, 8])\n",
    "ypoints = np.array([3, 8, 1, 10])\n",
    "\n",
    "plt.plot(xpoints, ypoints)\n",
    "plt.show()"
   ]
  },
  {
   "cell_type": "code",
   "execution_count": null,
   "id": "c37a77be",
   "metadata": {},
   "outputs": [],
   "source": [
    "import matplotlib.pyplot as plt \n",
    "\n",
    "days = [1,2,3,4,5,6,7,8,9,10,11,12,13,14,15]\n",
    "temperature = [36.6, 37, 37.7,39,40.1,43,43.4,45,45.6,40.1,44,45,46.8,47,47.8]\n",
    "\n",
    "plt.plot(days, temperature)\n",
    "plt.title(\"Karachi\")\n",
    "plt.xlabel(\"Temperature\")\n",
    "plt.ylabel(\"Days\")\n",
    "plt.show()"
   ]
  },
  {
   "cell_type": "code",
   "execution_count": null,
   "id": "db55fa01",
   "metadata": {},
   "outputs": [],
   "source": [
    "import matplotlib.pyplot as plt \n",
    "\n",
    "days = [1,2,3,4,5,6,7,8,9,10,11,12,13,14,15]\n",
    "temperature = [36.6, 37, 37.7,39,40.1,43,43.4,45,45.6,40.1,44,45,46.8,47,47.8]\n",
    "\n",
    "plt.plot(days, temperature,  color = \"g\", marker = \"o\", linestyle= \"--\", linewidth = 3,  markersize = 10)\n",
    "plt.title(\"Karachi\")\n",
    "plt.xlabel(\"Temperature\")\n",
    "plt.ylabel(\"Days\")\n",
    "plt.show()"
   ]
  },
  {
   "cell_type": "code",
   "execution_count": null,
   "id": "1bbfa6a8",
   "metadata": {},
   "outputs": [],
   "source": [
    "from matplotlib import style # import style module\n",
    "\n",
    "days = [1,2,3,4,5,6,7,8,9,10,11,12,13,14,15]\n",
    "temperature = [36.6, 37, 37.7,39,40.1,43,43.4,45,45.6,40.1,44,45,46.8,47,47.8]\n",
    "\n",
    "\n",
    "# Syntax: style.use(style)\n",
    "# To add a legend in the graph to describe more information about it, use plt.legend().\n",
    "style.use(\"ggplot\") # give ggplot parameter value to use() method\n",
    "\n",
    "plt.plot(days, temperature, \"mo--\", linewidth = 3,\n",
    "        markersize = 12, label = \"Temp line\")\n",
    "\n",
    "plt.title(\"Karachi Temperature\", fontsize=15)\n",
    "plt.xlabel(\"days\",fontsize=13)\n",
    "plt.ylabel(\"temperature\",fontsize=13)\n",
    "plt.legend(loc = 4) \n",
    "plt.show()"
   ]
  },
  {
   "cell_type": "code",
   "execution_count": null,
   "id": "35fe7527",
   "metadata": {},
   "outputs": [],
   "source": [
    "days = [1,2,3,4,5,6,7,8,9,10,11,12,13,14,15]\n",
    "karachi_temp = [36.6, 37, 37.7,39,40.1,43,43.4,45,45.6,40.1,44,45,46.8,47,47.8]\n",
    "lahore_temp = [39,39.4,40,40.7,41,42.5,43.5,44,44.9,44,45,45.1,46,47,46]\n",
    " \n",
    "plt.plot(days, karachi_temp, \"mo--\", linewidth = 3,\n",
    "        markersize = 10, label = \"Karachi Temperature\")\n",
    " \n",
    "plt.plot(days, lahore_temp, \"yo:\", linewidth = 3,\n",
    "        markersize = 10, label = \"Lahore Temperature}\")\n",
    " \n",
    "plt.title(\"Karachi  & Lahore Temperature\", fontsize=15)\n",
    "plt.xlabel(\"Days\",fontsize=13)\n",
    "plt.ylabel(\"Temperature\",fontsize=13)\n",
    "plt.legend(loc = 4)\n",
    "plt.show()"
   ]
  },
  {
   "cell_type": "code",
   "execution_count": null,
   "id": "1959fe35",
   "metadata": {},
   "outputs": [],
   "source": [
    "days = [1,2,3,4,5,6,7,8,9,10,11,12,13,14,15]\n",
    "karachi_temp = [36.6, 37, 37.7,39,40.1,43,43.4,45,45.6,40.1,44,45,46.8,47,47.8]\n",
    "lahore_temp = [39,39.4,40,40.7,41,42.5,43.5,44,44.9,44,45,45.1,46,47,46]\n",
    " \n",
    "plt.plot(days, karachi_temp, \"mo--\", linewidth = 3,\n",
    "        markersize = 10, label = \"Karachi Temperature\")\n",
    " \n",
    "plt.plot(days, lahore_temp, \"yo:\", linewidth = 3,\n",
    "        markersize = 10, label = \"Lahore Temperature}\")\n",
    " \n",
    "plt.title(\"Karachi  & Lahore Temperature\", fontsize=15)\n",
    "plt.xlabel(\"Days\",fontsize=13)\n",
    "plt.ylabel(\"Temperature\",fontsize=13)\n",
    "plt.legend(loc = 4)\n",
    "plt.grid(color='c', linestyle='-', linewidth=2) # grid with parameter\n",
    "plt.show()\n"
   ]
  },
  {
   "cell_type": "markdown",
   "id": "e17af35f",
   "metadata": {},
   "source": [
    "# Ploting Histograms\n",
    "Histogram\n",
    "A histogram is a graph showing frequency distributions.\n",
    "\n",
    "It is a graph showing the number of observations within each given interval.\n",
    "\n",
    "Example: Say you ask for the height of 250 people, you might end up with a histogram like this:"
   ]
  },
  {
   "cell_type": "code",
   "execution_count": null,
   "id": "66d0589f",
   "metadata": {},
   "outputs": [],
   "source": [
    "import matplotlib.pyplot as plt\n",
    "import numpy as np\n",
    "import random"
   ]
  },
  {
   "cell_type": "code",
   "execution_count": null,
   "id": "056512cd",
   "metadata": {
    "scrolled": true
   },
   "outputs": [],
   "source": [
    "import numpy as np\n",
    "\n",
    "x = np.random.normal(100, 10, 25)\n",
    "\n",
    "print(x)"
   ]
  },
  {
   "cell_type": "code",
   "execution_count": null,
   "id": "a819c7a7",
   "metadata": {},
   "outputs": [],
   "source": [
    "# Python Program illustrating\n",
    "# numpy.random.rand() method\n",
    "import numpy as geek\n",
    "# 1D Array\n",
    "array = geek.random.rand(5)\n",
    "print(\"1D Array filled with random values: \", array)\n"
   ]
  },
  {
   "cell_type": "code",
   "execution_count": null,
   "id": "b72f48a0",
   "metadata": {},
   "outputs": [],
   "source": [
    "# Python Program illustrating\n",
    "# numpy.random.normal() method\n",
    "\n",
    "import numpy as geek\n",
    "\n",
    "# 1D Array\n",
    "array = geek.random.normal(0.0, 1.0, 5)\n",
    "print(\"1D Array filled with random values as per distribution : \\n\", array)\n",
    "\n"
   ]
  },
  {
   "cell_type": "code",
   "execution_count": null,
   "id": "242e688f",
   "metadata": {},
   "outputs": [],
   "source": [
    "ml_students_age = np.random.randint(18,45, (100))\n",
    "py_students_age = np.random.randint(15,40, (100))"
   ]
  },
  {
   "cell_type": "code",
   "execution_count": null,
   "id": "7cc5f58b",
   "metadata": {},
   "outputs": [],
   "source": [
    "print(ml_students_age)\n",
    "print(py_students_age)"
   ]
  },
  {
   "cell_type": "code",
   "execution_count": null,
   "id": "85b06677",
   "metadata": {},
   "outputs": [],
   "source": [
    "import matplotlib.pyplot as plt\n",
    "import numpy as np\n",
    "\n",
    "h = np.random.normal(170, 10, 250)\n",
    "\n",
    "plt.hist(h)\n",
    "plt.show() "
   ]
  },
  {
   "cell_type": "code",
   "execution_count": null,
   "id": "c987f958",
   "metadata": {},
   "outputs": [],
   "source": [
    "plt.hist(ml_students_age)\n",
    "\n",
    "plt.title(\"ML Students age histograms\")\n",
    "plt.xlabel(\"Students age cotegory\")\n",
    "plt.ylabel(\"No. Students age\")\n",
    "plt.show()"
   ]
  },
  {
   "cell_type": "markdown",
   "id": "8ddc450d",
   "metadata": {},
   "source": [
    "<pre>\n",
    "\"\"\"\n",
    "plt.hist(\n",
    "    x,\n",
    "    bins=None,\n",
    "    range=None,\n",
    "    density=None,\n",
    "    weights=None,\n",
    "    cumulative=False,\n",
    "    bottom=None,\n",
    "    histtype='bar',\n",
    "    align='mid',\n",
    "    orientation='vertical',\n",
    "    rwidth=None,\n",
    "    log=False,\n",
    "    color=None,\n",
    "    label=None,\n",
    "    stacked=False,\n",
    "    normed=None,\n",
    "    *,\n",
    "    data=None,\n",
    "    **kwargs,\n",
    ")\n",
    "\n",
    "x, or format []\n",
    "bins=None or sequence\n",
    "histtype : {'bar', 'barstacked', 'step',  'stepfilled'}\n",
    "align : {'left', 'mid', 'right'}\n",
    "orientation : {'horizontal', 'vertical'}\n",
    "rwidth : scalar or None\n",
    "color : color or format []\n",
    "label : str or format []\n",
    "\"\"\"\n",
    "</pre>"
   ]
  },
  {
   "cell_type": "code",
   "execution_count": null,
   "id": "87b5dc9f",
   "metadata": {},
   "outputs": [],
   "source": [
    "bins = [15,20,25,30,35,40,45]\n",
    "plt.figure(figsize = (16,9))\n",
    "\n",
    "\n",
    "plt.hist(ml_students_age, bins, rwidth=0.8, histtype = \"bar\",\n",
    "         orientation='vertical', color = \"m\", label = \"ML Student\")\n",
    "\n",
    "plt.title(\"ML Students age histograms\")\n",
    "plt.xlabel(\"Students age cotegory\")\n",
    "plt.ylabel(\"No. Students age\")\n",
    "plt.legend()\n",
    "plt.show()"
   ]
  },
  {
   "cell_type": "code",
   "execution_count": null,
   "id": "dff33047",
   "metadata": {},
   "outputs": [],
   "source": [
    "from matplotlib import style\n",
    "style.use(\"ggplot\")\n",
    "plt.figure(figsize = (16,9))\n",
    "\n",
    "plt.hist([ml_students_age, py_students_age], bins, rwidth=0.8, histtype = \"bar\",\n",
    "         orientation='vertical', color = [\"m\", \"y\"], label = [\"ML Student\", \"Py Student\"])\n",
    "\n",
    "#plt.hist(py_students_age, bins, rwidth=0.8, histtype = \"bar\",\n",
    "#         orientation='vertical', color = \"y\", label = \"Py Student\")\n",
    "\n",
    "plt.title(\"ML & Py Students age histograms\")\n",
    "plt.xlabel(\"Students age cotegory\")\n",
    "plt.ylabel(\"No. Students age\")\n",
    "plt.legend()\n",
    "plt.show()"
   ]
  },
  {
   "cell_type": "markdown",
   "id": "b262735a",
   "metadata": {},
   "source": [
    "# `Ploting Bar Chart`"
   ]
  },
  {
   "cell_type": "code",
   "execution_count": 1,
   "id": "e06909b5",
   "metadata": {},
   "outputs": [
    {
     "data": {
      "image/png": "[encoded data removed]",
      "text/plain": [
       "<Figure size 432x288 with 1 Axes>"
      ]
     },
     "metadata": {
      "needs_background": "light"
     },
     "output_type": "display_data"
    }
   ],
   "source": [
    "import matplotlib.pyplot as plt\n",
    "import numpy as np\n",
    "\n",
    "x = np.array([\"A\", \"B\", \"C\", \"D\"])\n",
    "y = np.array([3, 8, 1, 10])\n",
    "\n",
    "plt.bar(x,y)\n",
    "plt.show()\n"
   ]
  },
  {
   "cell_type": "code",
   "execution_count": 7,
   "id": "99dc8f91",
   "metadata": {},
   "outputs": [
    {
     "data": {
      "image/png": "[encoded data removed]",
      "text/plain": [
       "<Figure size 432x288 with 1 Axes>"
      ]
     },
     "metadata": {
      "needs_background": "light"
     },
     "output_type": "display_data"
    }
   ],
   "source": [
    "import matplotlib.pyplot as plt\n",
    "import numpy as np\n",
    "# from matplotlib import style\n",
    "\n",
    "classes = [\"Python\", \"R\", \"AI\", \"ML\", \"DS\"]\n",
    "class1_students = [30, 10, 20, 25, 10] # out of 100 student in each class\n",
    "class2_students = [40, 5, 20, 20, 10]\n",
    "class3_students = [35, 5, 30, 15, 15]\n",
    "\n",
    "plt.bar(classes, class1_students)\n",
    "plt.show()"
   ]
  },
  {
   "cell_type": "code",
   "execution_count": 5,
   "id": "b9c764bf",
   "metadata": {},
   "outputs": [
    {
     "data": {
      "image/png": "[encoded data removed]",
      "text/plain": [
       "<Figure size 432x288 with 1 Axes>"
      ]
     },
     "metadata": {
      "needs_background": "light"
     },
     "output_type": "display_data"
    }
   ],
   "source": [
    "plt.bar(classes, class2_students)\n",
    "plt.show()"
   ]
  },
  {
   "cell_type": "code",
   "execution_count": 6,
   "id": "5dfe0264",
   "metadata": {
    "scrolled": true
   },
   "outputs": [
    {
     "data": {
      "image/png": "[encoded data removed]",
      "text/plain": [
       "<Figure size 432x288 with 1 Axes>"
      ]
     },
     "metadata": {
      "needs_background": "light"
     },
     "output_type": "display_data"
    }
   ],
   "source": [
    "plt.bar(classes, class3_students)\n",
    "plt.show()"
   ]
  },
  {
   "cell_type": "code",
   "execution_count": 8,
   "id": "15a8a78d",
   "metadata": {},
   "outputs": [
    {
     "data": {
      "image/png": "[encoded data removed]",
      "text/plain": [
       "<Figure size 432x288 with 1 Axes>"
      ]
     },
     "metadata": {
      "needs_background": "light"
     },
     "output_type": "display_data"
    }
   ],
   "source": [
    "import matplotlib.pyplot as plt\n",
    "import numpy as np\n",
    "# from matplotlib import style\n",
    "\n",
    "classes = [\"Python\", \"R\", \"AI\", \"ML\", \"DS\"]\n",
    "class1_students = [30, 10, 20, 25, 10] # out of 100 student in each class\n",
    "class2_students = [40, 5, 20, 20, 10]\n",
    "class3_students = [35, 5, 30, 15, 15]\n",
    "\n",
    "plt.bar(classes, class1_students)\n",
    "plt.bar(classes, class2_students)\n",
    "plt.bar(classes, class3_students)\n",
    "plt.show()"
   ]
  },
  {
   "cell_type": "code",
   "execution_count": 9,
   "id": "7d127c7a",
   "metadata": {
    "scrolled": true
   },
   "outputs": [
    {
     "data": {
      "image/png": "[encoded data removed]",
      "text/plain": [
       "<Figure size 432x288 with 1 Axes>"
      ]
     },
     "metadata": {
      "needs_background": "light"
     },
     "output_type": "display_data"
    }
   ],
   "source": [
    "import matplotlib.pyplot as plt\n",
    "import numpy as np\n",
    "\n",
    "x = np.array([\"A\", \"B\", \"C\", \"D\"])\n",
    "y = np.array([3, 8, 1, 10])\n",
    "\n",
    "plt.bar(x, y, color = \"red\")\n",
    "plt.show()"
   ]
  },
  {
   "cell_type": "code",
   "execution_count": 10,
   "id": "d9d81c0c",
   "metadata": {},
   "outputs": [
    {
     "data": {
      "image/png": "[encoded data removed]",
      "text/plain": [
       "<Figure size 432x288 with 1 Axes>"
      ]
     },
     "metadata": {
      "needs_background": "light"
     },
     "output_type": "display_data"
    }
   ],
   "source": [
    "import matplotlib.pyplot as plt\n",
    "import numpy as np\n",
    "\n",
    "x = np.array([\"A\", \"B\", \"C\", \"D\"])\n",
    "y = np.array([3, 8, 1, 10])\n",
    "\n",
    "plt.bar(x, y, color = \"hotpink\")\n",
    "plt.show()"
   ]
  },
  {
   "cell_type": "code",
   "execution_count": 11,
   "id": "4e28f2c5",
   "metadata": {},
   "outputs": [
    {
     "data": {
      "image/png": "[encoded data removed]",
      "text/plain": [
       "<Figure size 432x288 with 1 Axes>"
      ]
     },
     "metadata": {
      "needs_background": "light"
     },
     "output_type": "display_data"
    }
   ],
   "source": [
    "import matplotlib.pyplot as plt\n",
    "import numpy as np\n",
    "\n",
    "x = np.array([\"A\", \"B\", \"C\", \"D\"])\n",
    "y = np.array([3, 8, 1, 10])\n",
    "\n",
    "plt.bar(x, y, color = \"#4CAF50\")\n",
    "plt.show()"
   ]
  },
  {
   "cell_type": "code",
   "execution_count": 12,
   "id": "c5991d63",
   "metadata": {},
   "outputs": [
    {
     "data": {
      "image/png": "[encoded data removed]",
      "text/plain": [
       "<Figure size 432x288 with 1 Axes>"
      ]
     },
     "metadata": {
      "needs_background": "light"
     },
     "output_type": "display_data"
    }
   ],
   "source": [
    "import matplotlib.pyplot as plt\n",
    "import numpy as np\n",
    "\n",
    "x = np.array([\"A\", \"B\", \"C\", \"D\"])\n",
    "y = np.array([3, 8, 1, 10])\n",
    "\n",
    "plt.bar(x, y, width = 0.1)\n",
    "plt.show()"
   ]
  },
  {
   "cell_type": "markdown",
   "id": "5c20ef4c",
   "metadata": {},
   "source": [
    "# `Horizontal Bars`"
   ]
  },
  {
   "cell_type": "code",
   "execution_count": 13,
   "id": "4dda537d",
   "metadata": {},
   "outputs": [
    {
     "data": {
      "image/png": "[encoded data removed]",
      "text/plain": [
       "<Figure size 432x288 with 1 Axes>"
      ]
     },
     "metadata": {
      "needs_background": "light"
     },
     "output_type": "display_data"
    }
   ],
   "source": [
    "import matplotlib.pyplot as plt\n",
    "import numpy as np\n",
    "\n",
    "x = np.array([\"A\", \"B\", \"C\", \"D\"])\n",
    "y = np.array([3, 8, 1, 10])\n",
    "\n",
    "plt.barh(x, y)\n",
    "plt.show()"
   ]
  },
  {
   "cell_type": "code",
   "execution_count": 14,
   "id": "5a591bd3",
   "metadata": {
    "scrolled": true
   },
   "outputs": [
    {
     "data": {
      "image/png": "[encoded data removed]",
      "text/plain": [
       "<Figure size 432x288 with 1 Axes>"
      ]
     },
     "metadata": {
      "needs_background": "light"
     },
     "output_type": "display_data"
    }
   ],
   "source": [
    "import matplotlib.pyplot as plt\n",
    "import numpy as np\n",
    "\n",
    "x = np.array([\"A\", \"B\", \"C\", \"D\"])\n",
    "y = np.array([3, 8, 1, 10])\n",
    "\n",
    "plt.barh(x, y, height = 0.1)\n",
    "plt.show()"
   ]
  },
  {
   "cell_type": "code",
   "execution_count": 15,
   "id": "4e899bec",
   "metadata": {},
   "outputs": [
    {
     "data": {
      "image/png": "[encoded data removed]",
      "text/plain": [
       "<Figure size 432x288 with 1 Axes>"
      ]
     },
     "metadata": {
      "needs_background": "light"
     },
     "output_type": "display_data"
    }
   ],
   "source": [
    "import matplotlib.pyplot as plt\n",
    "import numpy as np\n",
    "\n",
    "x = np.array([\"A\", \"B\", \"C\", \"D\"])\n",
    "y = np.array([3, 8, 1, 10])\n",
    "\n",
    "plt.barh(x, y, color = \"#4CAF50\")\n",
    "plt.show()"
   ]
  },
  {
   "cell_type": "markdown",
   "id": "0846fcd9",
   "metadata": {},
   "source": [
    "# `Scatter Plots`"
   ]
  },
  {
   "cell_type": "code",
   "execution_count": 16,
   "id": "acfe028a",
   "metadata": {},
   "outputs": [
    {
     "data": {
      "image/png": "[encoded data removed]",
      "text/plain": [
       "<Figure size 432x288 with 1 Axes>"
      ]
     },
     "metadata": {
      "needs_background": "light"
     },
     "output_type": "display_data"
    }
   ],
   "source": [
    "import matplotlib.pyplot as plt\n",
    "import numpy as np\n",
    "\n",
    "x = np.array([5,7,8,7,2,17,2,9,4,11,12,9,6])\n",
    "y = np.array([99,86,87,88,111,86,103,87,94,78,77,85,86])\n",
    "\n",
    "plt.scatter(x, y)\n",
    "plt.show()"
   ]
  },
  {
   "cell_type": "code",
   "execution_count": 17,
   "id": "6c043d4e",
   "metadata": {},
   "outputs": [
    {
     "data": {
      "image/png": "[encoded data removed]",
      "text/plain": [
       "<Figure size 432x288 with 1 Axes>"
      ]
     },
     "metadata": {
      "needs_background": "light"
     },
     "output_type": "display_data"
    }
   ],
   "source": [
    "import matplotlib.pyplot as plt\n",
    "import numpy as np\n",
    "\n",
    "#day one, the age and speed of 13 cars:\n",
    "x = np.array([5,7,8,7,2,17,2,9,4,11,12,9,6])\n",
    "y = np.array([99,86,87,88,111,86,103,87,94,78,77,85,86])\n",
    "plt.scatter(x, y)\n",
    "\n",
    "#day two, the age and speed of 15 cars:\n",
    "x = np.array([2,2,8,1,15,8,12,9,7,3,11,4,7,14,12])\n",
    "y = np.array([100,105,84,105,90,99,90,95,94,100,79,112,91,80,85])\n",
    "plt.scatter(x, y)\n",
    "\n",
    "plt.show()"
   ]
  },
  {
   "cell_type": "code",
   "execution_count": 18,
   "id": "6d3f06cc",
   "metadata": {},
   "outputs": [
    {
     "data": {
      "image/png": "[encoded data removed]",
      "text/plain": [
       "<Figure size 432x288 with 1 Axes>"
      ]
     },
     "metadata": {
      "needs_background": "light"
     },
     "output_type": "display_data"
    }
   ],
   "source": [
    "import matplotlib.pyplot as plt\n",
    "import numpy as np\n",
    "\n",
    "x = np.array([5,7,8,7,2,17,2,9,4,11,12,9,6])\n",
    "y = np.array([99,86,87,88,111,86,103,87,94,78,77,85,86])\n",
    "plt.scatter(x, y, color = 'hotpink')\n",
    "\n",
    "x = np.array([2,2,8,1,15,8,12,9,7,3,11,4,7,14,12])\n",
    "y = np.array([100,105,84,105,90,99,90,95,94,100,79,112,91,80,85])\n",
    "plt.scatter(x, y, color = '#88c999')\n",
    "\n",
    "plt.show()"
   ]
  },
  {
   "cell_type": "code",
   "execution_count": 19,
   "id": "1c110817",
   "metadata": {
    "scrolled": true
   },
   "outputs": [
    {
     "data": {
      "image/png": "[encoded data removed]",
      "text/plain": [
       "<Figure size 432x288 with 1 Axes>"
      ]
     },
     "metadata": {
      "needs_background": "light"
     },
     "output_type": "display_data"
    }
   ],
   "source": [
    "import matplotlib.pyplot as plt\n",
    "import numpy as np\n",
    "\n",
    "x = np.array([5,7,8,7,2,17,2,9,4,11,12,9,6])\n",
    "y = np.array([99,86,87,88,111,86,103,87,94,78,77,85,86])\n",
    "colors = np.array([\"red\",\"green\",\"blue\",\"yellow\",\"pink\",\"black\",\"orange\",\"purple\",\"beige\",\"brown\",\"gray\",\"cyan\",\"magenta\"])\n",
    "\n",
    "plt.scatter(x, y, c=colors)\n",
    "\n",
    "plt.show()"
   ]
  },
  {
   "cell_type": "code",
   "execution_count": 22,
   "id": "1fef1c4a",
   "metadata": {},
   "outputs": [
    {
     "data": {
      "image/png": "[encoded data removed]",
      "text/plain": [
       "<Figure size 432x288 with 1 Axes>"
      ]
     },
     "metadata": {
      "needs_background": "light"
     },
     "output_type": "display_data"
    }
   ],
   "source": [
    "import matplotlib.pyplot as plt\n",
    "import numpy as np\n",
    "\n",
    "x = np.array([5,7,8,7,2,17,2,9,4,11,12,9,6])\n",
    "y = np.array([99,86,87,88,111,86,103,87,94,78,77,85,86])\n",
    "sizes = np.array([20,50,100,200,500,1000,60,90,10,300,600,800,75])\n",
    "\n",
    "plt.scatter(x, y, s=sizes)\n",
    "\n",
    "plt.show()"
   ]
  },
  {
   "cell_type": "markdown",
   "id": "e75d38fd",
   "metadata": {},
   "source": [
    "# `Pie Charts`"
   ]
  },
  {
   "cell_type": "code",
   "execution_count": 24,
   "id": "505bc8a1",
   "metadata": {},
   "outputs": [
    {
     "data": {
      "image/png": "[encoded data removed]",
      "text/plain": [
       "<Figure size 432x288 with 1 Axes>"
      ]
     },
     "metadata": {},
     "output_type": "display_data"
    }
   ],
   "source": [
    "from matplotlib import pyplot as plt\n",
    "import numpy as np\n",
    "\n",
    "cars = ['AUDI', 'BMW', 'FORD','TESLA', 'JAGUAR', 'MERCEDES']\n",
    "data = [23, 17, 35, 29, 12, 41]\n",
    "\n",
    "plt.pie(data)\n",
    "\n",
    "plt.show()\n"
   ]
  },
  {
   "cell_type": "code",
   "execution_count": 26,
   "id": "3d6cf975",
   "metadata": {},
   "outputs": [
    {
     "data": {
      "image/png": "[encoded data removed]",
      "text/plain": [
       "<Figure size 432x288 with 1 Axes>"
      ]
     },
     "metadata": {},
     "output_type": "display_data"
    }
   ],
   "source": [
    "from matplotlib import pyplot as plt\n",
    "import numpy as np\n",
    "\n",
    "cars = ['AUDI', 'BMW', 'FORD','TESLA', 'JAGUAR', 'MERCEDES']\n",
    "data = [23, 17, 35, 29, 12, 41]\n",
    "\n",
    "plt.pie(data, labels = cars)\n",
    "\n",
    "# show plot\n",
    "plt.show()\n"
   ]
  },
  {
   "cell_type": "code",
   "execution_count": 27,
   "id": "b41ec497",
   "metadata": {},
   "outputs": [
    {
     "data": {
      "image/png": "[encoded data removed]",
      "text/plain": [
       "<Figure size 432x288 with 1 Axes>"
      ]
     },
     "metadata": {},
     "output_type": "display_data"
    }
   ],
   "source": [
    "import matplotlib.pyplot as plt\n",
    "import numpy as np\n",
    "\n",
    "y = np.array([35, 25, 25, 15])\n",
    "mylabels = [\"Apples\", \"Bananas\", \"Cherries\", \"Dates\"]\n",
    "\n",
    "plt.pie(y, labels = mylabels)\n",
    "plt.show() "
   ]
  },
  {
   "cell_type": "code",
   "execution_count": 28,
   "id": "f6a90484",
   "metadata": {},
   "outputs": [
    {
     "data": {
      "image/png": "[encoded data removed]",
      "text/plain": [
       "<Figure size 432x288 with 1 Axes>"
      ]
     },
     "metadata": {},
     "output_type": "display_data"
    }
   ],
   "source": [
    "import matplotlib.pyplot as plt\n",
    "import numpy as np\n",
    "\n",
    "y = np.array([35, 25, 25, 15])\n",
    "mylabels = [\"Apples\", \"Bananas\", \"Cherries\", \"Dates\"]\n",
    "\n",
    "plt.pie(y, labels = mylabels, startangle = 90)\n",
    "plt.show() "
   ]
  },
  {
   "cell_type": "code",
   "execution_count": 29,
   "id": "0134e0a7",
   "metadata": {},
   "outputs": [
    {
     "data": {
      "image/png": "[encoded data removed]",
      "text/plain": [
       "<Figure size 432x288 with 1 Axes>"
      ]
     },
     "metadata": {},
     "output_type": "display_data"
    }
   ],
   "source": [
    "import matplotlib.pyplot as plt\n",
    "import numpy as np\n",
    "\n",
    "y = np.array([35, 25, 25, 15])\n",
    "mylabels = [\"Apples\", \"Bananas\", \"Cherries\", \"Dates\"]\n",
    "myexplode = [0.2, 0, 0, 0]\n",
    "\n",
    "plt.pie(y, labels = mylabels, explode = myexplode)\n",
    "plt.show() "
   ]
  },
  {
   "cell_type": "code",
   "execution_count": 38,
   "id": "45cc3efb",
   "metadata": {},
   "outputs": [
    {
     "data": {
      "image/png": "[encoded data removed]",
      "text/plain": [
       "<Figure size 432x288 with 1 Axes>"
      ]
     },
     "metadata": {},
     "output_type": "display_data"
    }
   ],
   "source": [
    "import matplotlib.pyplot as plt\n",
    "import numpy as np\n",
    "\n",
    "y = np.array([35, 25, 25, 15])\n",
    "mylabels = [\"Apples\", \"Bananas\", \"Cherries\", \"Dates\"]\n",
    "myexplode = [0.2, 0.2, 0.2, 0.2]\n",
    "\n",
    "plt.pie(y, labels = mylabels, explode = myexplode)\n",
    "plt.show() "
   ]
  },
  {
   "cell_type": "code",
   "execution_count": 39,
   "id": "dbe126bb",
   "metadata": {},
   "outputs": [
    {
     "data": {
      "image/png": "[encoded data removed]",
      "text/plain": [
       "<Figure size 432x288 with 1 Axes>"
      ]
     },
     "metadata": {},
     "output_type": "display_data"
    }
   ],
   "source": [
    "import matplotlib.pyplot as plt\n",
    "import numpy as np\n",
    "\n",
    "y = np.array([35, 25, 25, 15])\n",
    "mylabels = [\"Apples\", \"Bananas\", \"Cherries\", \"Dates\"]\n",
    "myexplode = [0.2, 0, 0, 0]\n",
    "\n",
    "plt.pie(y, labels = mylabels, explode = myexplode, shadow = True)\n",
    "plt.show()"
   ]
  },
  {
   "cell_type": "code",
   "execution_count": 40,
   "id": "fe3e383e",
   "metadata": {},
   "outputs": [
    {
     "data": {
      "image/png": "[encoded data removed]",
      "text/plain": [
       "<Figure size 432x288 with 1 Axes>"
      ]
     },
     "metadata": {},
     "output_type": "display_data"
    }
   ],
   "source": [
    "import matplotlib.pyplot as plt\n",
    "import numpy as np\n",
    "\n",
    "y = np.array([35, 25, 25, 15])\n",
    "mylabels = [\"Apples\", \"Bananas\", \"Cherries\", \"Dates\"]\n",
    "mycolors = [\"black\", \"hotpink\", \"b\", \"#4CAF50\"]\n",
    "\n",
    "plt.pie(y, labels = mylabels, colors = mycolors)\n",
    "plt.show() "
   ]
  },
  {
   "cell_type": "code",
   "execution_count": 41,
   "id": "36667dfd",
   "metadata": {},
   "outputs": [
    {
     "data": {
      "image/png": "[encoded data removed]",
      "text/plain": [
       "<Figure size 432x288 with 1 Axes>"
      ]
     },
     "metadata": {},
     "output_type": "display_data"
    }
   ],
   "source": [
    "import matplotlib.pyplot as plt\n",
    "import numpy as np\n",
    "\n",
    "y = np.array([35, 25, 25, 15])\n",
    "mylabels = [\"Apples\", \"Bananas\", \"Cherries\", \"Dates\"]\n",
    "\n",
    "plt.pie(y, labels = mylabels)\n",
    "plt.legend()\n",
    "plt.show()"
   ]
  },
  {
   "cell_type": "code",
   "execution_count": 42,
   "id": "10e80416",
   "metadata": {},
   "outputs": [
    {
     "data": {
      "image/png": "[encoded data removed]",
      "text/plain": [
       "<Figure size 432x288 with 1 Axes>"
      ]
     },
     "metadata": {},
     "output_type": "display_data"
    }
   ],
   "source": [
    "import matplotlib.pyplot as plt\n",
    "import numpy as np\n",
    "\n",
    "y = np.array([35, 25, 25, 15])\n",
    "mylabels = [\"Apples\", \"Bananas\", \"Cherries\", \"Dates\"]\n",
    "\n",
    "plt.pie(y, labels = mylabels)\n",
    "plt.legend(title = \"Four Fruits:\")\n",
    "plt.show() "
   ]
  },
  {
   "cell_type": "code",
   "execution_count": null,
   "id": "967bb5df",
   "metadata": {},
   "outputs": [],
   "source": []
  },
  {
   "cell_type": "code",
   "execution_count": null,
   "id": "4f3ba245",
   "metadata": {},
   "outputs": [],
   "source": []
  },
  {
   "cell_type": "code",
   "execution_count": null,
   "id": "6a9f421e",
   "metadata": {},
   "outputs": [],
   "source": []
  },
  {
   "cell_type": "code",
   "execution_count": null,
   "id": "191f232f",
   "metadata": {},
   "outputs": [],
   "source": []
  }
 ],
 "metadata": {
  "kernelspec": {
   "display_name": "Python 3 (ipykernel)",
   "language": "python",
   "name": "python3"
  },
  "language_info": {
   "codemirror_mode": {
    "name": "ipython",
    "version": 3
   },
   "file_extension": ".py",
   "mimetype": "text/x-python",
   "name": "python",
   "nbconvert_exporter": "python",
   "pygments_lexer": "ipython3",
   "version": "3.7.11"
  }
 },
 "nbformat": 4,
 "nbformat_minor": 5
}
